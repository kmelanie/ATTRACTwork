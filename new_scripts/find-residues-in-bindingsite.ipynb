{
 "cells": [
  {
   "cell_type": "code",
   "execution_count": 73,
   "metadata": {},
   "outputs": [
    {
     "name": "stdout",
     "output_type": "stream",
     "text": [
      "<Residue GLY het=  resseq=33 icode= > <Residue SER het=  resseq=213 icode= > 6.863723\n",
      "33\n",
      "<Residue GLY het=  resseq=33 icode= > <Residue SER het=  resseq=214 icode= > 5.305806\n",
      "33\n",
      "<Residue SER het=  resseq=34 icode= > <Residue SER het=  resseq=214 icode= > 6.869789\n",
      "34\n",
      "<Residue PRO het=  resseq=35 icode= > <Residue TRP het=  resseq=211 icode= > 6.977177\n",
      "35\n",
      "<Residue PRO het=  resseq=35 icode= > <Residue GLY het=  resseq=212 icode= > 6.819282\n",
      "35\n",
      "<Residue PRO het=  resseq=35 icode= > <Residue SER het=  resseq=213 icode= > 6.613491\n",
      "35\n",
      "<Residue PRO het=  resseq=35 icode= > <Residue SER het=  resseq=214 icode= > 5.431335\n",
      "35\n",
      "<Residue VAL het=  resseq=36 icode= > <Residue TRP het=  resseq=211 icode= > 5.206075\n",
      "36\n",
      "<Residue VAL het=  resseq=36 icode= > <Residue GLY het=  resseq=212 icode= > 3.8979273\n",
      "36\n",
      "<Residue VAL het=  resseq=36 icode= > <Residue SER het=  resseq=213 icode= > 4.1230845\n",
      "36\n",
      "<Residue VAL het=  resseq=36 icode= > <Residue SER het=  resseq=214 icode= > 3.8180435\n",
      "36\n",
      "<Residue THR het=  resseq=37 icode= > <Residue CYS het=  resseq=187 icode= > 6.3924623\n",
      "37\n",
      "<Residue THR het=  resseq=37 icode= > <Residue TRP het=  resseq=211 icode= > 6.466392\n",
      "37\n",
      "<Residue THR het=  resseq=37 icode= > <Residue GLY het=  resseq=212 icode= > 5.4630537\n",
      "37\n",
      "<Residue THR het=  resseq=37 icode= > <Residue SER het=  resseq=213 icode= > 6.079275\n",
      "37\n",
      "<Residue THR het=  resseq=37 icode= > <Residue SER het=  resseq=214 icode= > 5.362829\n",
      "37\n",
      "<Residue THR het=  resseq=37 icode= > <Residue THR het=  resseq=215 icode= > 6.9611454\n",
      "37\n",
      "<Residue THR het=  resseq=37 icode= > <Residue CYS het=  resseq=216 icode= > 6.447337\n",
      "37\n",
      "<Residue LEU het=  resseq=38 icode= > <Residue SER het=  resseq=191 icode= > 6.789619\n",
      "38\n",
      "<Residue LEU het=  resseq=38 icode= > <Residue TRP het=  resseq=211 icode= > 6.825141\n",
      "38\n",
      "<Residue LEU het=  resseq=40 icode= > <Residue PHE het=  resseq=39 icode= > 4.511882\n",
      "40\n",
      "<Residue LEU het=  resseq=40 icode= > <Residue CYS het=  resseq=40 icode= > 6.0735807\n",
      "40\n",
      "<Residue ARG het=  resseq=41 icode= > <Residue PHE het=  resseq=39 icode= > 6.661432\n",
      "41\n",
      "<Residue GLY het=  resseq=63 icode= > <Residue TYR het=  resseq=144 icode= > 6.597064\n",
      "63\n",
      "[33, 34, 35, 36, 37, 38, 40, 41, 63]\n"
     ]
    }
   ],
   "source": [
    "from Bio.PDB import PDBParser\n",
    "import string\n",
    "import warnings\n",
    "from Bio import BiopythonWarning\n",
    "warnings.simplefilter('ignore', BiopythonWarning)\n",
    "\n",
    "# create parser\n",
    "parser = PDBParser()\n",
    "alphabet_str= string.ascii_uppercase\n",
    "alphabet_list=list(alphabet_str)\n",
    "\n",
    "# read structure of ligand from file\n",
    "structure = parser.get_structure('LIGAND','../originals/ligand-aa.pdb')\n",
    "model_ligand = structure[0]\n",
    "for i in list(string.ascii_uppercase):\n",
    "    try:\n",
    "        chain_ligand = model_ligand[i]\n",
    "    except KeyError:\n",
    "        continue\n",
    "\n",
    "# read structure of receptor from file\n",
    "structure = parser.get_structure('RECEPTOR', '../originals/receptor-aa.pdb')\n",
    "model_receptor = structure[0]\n",
    "for i in list(string.ascii_uppercase):\n",
    "    try:\n",
    "        chain_receptor = model_receptor[i]\n",
    "    except KeyError:\n",
    "        continue\n",
    "\n",
    "\n",
    "\n",
    "### find distance between residue of ligand and all residues of receptor\n",
    "close_residues=[]\n",
    "for residue1 in chain_ligand:\n",
    "    #print(residue1)\n",
    "    for residue2 in chain_receptor:\n",
    "        if residue1 != residue2:\n",
    "            # compute distance between CA atoms\n",
    "            try:\n",
    "                distance = residue1['CA'] - residue2['CA']\n",
    "            except KeyError:\n",
    "                ## no CA atom, e.g. for H_NAG\n",
    "                continue\n",
    "            ### find residues with distance shorter than given threashold (here 7 Angstrom)\n",
    "            if distance < 7:\n",
    "                #print(residue1, residue2, distance)\n",
    "                if residue1.get_full_id()[3][1] not in close_residues:\n",
    "                    close_residues.append(residue1.get_full_id()[3][1])\n",
    "                #print(residue1.get_full_id()[3][1])\n",
    "print(close_residues)"
   ]
  },
  {
   "cell_type": "code",
   "execution_count": 56,
   "metadata": {},
   "outputs": [
    {
     "ename": "IndexError",
     "evalue": "list index out of range",
     "output_type": "error",
     "traceback": [
      "\u001b[0;31m---------------------------------------------------------------------------\u001b[0m",
      "\u001b[0;31mIndexError\u001b[0m                                Traceback (most recent call last)",
      "\u001b[0;32m<ipython-input-56-43cced8697c5>\u001b[0m in \u001b[0;36m<module>\u001b[0;34m\u001b[0m\n\u001b[1;32m      2\u001b[0m \u001b[0;32mfor\u001b[0m \u001b[0mi\u001b[0m \u001b[0;32min\u001b[0m \u001b[0mclose_residues\u001b[0m\u001b[0;34m:\u001b[0m\u001b[0;34m\u001b[0m\u001b[0;34m\u001b[0m\u001b[0m\n\u001b[1;32m      3\u001b[0m     \u001b[0mindex\u001b[0m\u001b[0;34m=\u001b[0m\u001b[0mclose_residues\u001b[0m\u001b[0;34m.\u001b[0m\u001b[0mindex\u001b[0m\u001b[0;34m(\u001b[0m\u001b[0mi\u001b[0m\u001b[0;34m)\u001b[0m\u001b[0;34m\u001b[0m\u001b[0;34m\u001b[0m\u001b[0m\n\u001b[0;32m----> 4\u001b[0;31m     \u001b[0;32mif\u001b[0m \u001b[0mclose_residues\u001b[0m\u001b[0;34m[\u001b[0m\u001b[0mindex\u001b[0m\u001b[0;34m+\u001b[0m\u001b[0;36m1\u001b[0m\u001b[0;34m]\u001b[0m\u001b[0;34m<\u001b[0m\u001b[0mclose_residues\u001b[0m\u001b[0;34m[\u001b[0m\u001b[0mi\u001b[0m\u001b[0;34m]\u001b[0m\u001b[0;34m+\u001b[0m\u001b[0;36m5\u001b[0m\u001b[0;34m:\u001b[0m\u001b[0;34m\u001b[0m\u001b[0;34m\u001b[0m\u001b[0m\n\u001b[0m\u001b[1;32m      5\u001b[0m         \u001b[0mflex_res\u001b[0m\u001b[0;34m.\u001b[0m\u001b[0mappend\u001b[0m\u001b[0;34m(\u001b[0m\u001b[0mi\u001b[0m\u001b[0;34m)\u001b[0m\u001b[0;34m\u001b[0m\u001b[0;34m\u001b[0m\u001b[0m\n",
      "\u001b[0;31mIndexError\u001b[0m: list index out of range"
     ]
    }
   ],
   "source": []
  },
  {
   "cell_type": "code",
   "execution_count": 67,
   "metadata": {},
   "outputs": [
    {
     "name": "stdout",
     "output_type": "stream",
     "text": [
      "{1: [33, 34, 35, 36, 37, 38, 40, 41], 2: [63]}\n"
     ]
    }
   ],
   "source": [
    "### get dictionary with flexible residues in loop clusters:\n",
    "def grouper(iterable, threshold):\n",
    "    prev = None\n",
    "    group = []\n",
    "    for item in iterable:\n",
    "        if not prev or item - prev <= threshold:\n",
    "            group.append(item)\n",
    "        else:\n",
    "            yield group\n",
    "            group = [item]\n",
    "        prev = item\n",
    "    if group:\n",
    "        yield group\n",
    "flex_loops_dict=dict(enumerate(grouper(close_residues, 2), 1))\n",
    "print(flex_loops_dict)"
   ]
  },
  {
   "cell_type": "code",
   "execution_count": 81,
   "metadata": {},
   "outputs": [
    {
     "name": "stdout",
     "output_type": "stream",
     "text": [
      "32 42\n"
     ]
    }
   ],
   "source": [
    "### get first and last residue of loops as cut positions:\n",
    "cut_pos=[]\n",
    "for i in flex_loops_dict:\n",
    "    if len(flex_loops_dict[i])>1:\n",
    "        cut_pos.append([flex_loops_dict[i][0]-1,flex_loops_dict[i][-1]+1])\n",
    "for i in range(len(cut_pos)):\n",
    "    cut1=cut_pos[i][0]\n",
    "    cut2=cut_pos[i][1]\n",
    "print(cut1,cut2)"
   ]
  },
  {
   "cell_type": "code",
   "execution_count": null,
   "metadata": {},
   "outputs": [],
   "source": []
  }
 ],
 "metadata": {
  "kernelspec": {
   "display_name": "Python 3",
   "language": "python",
   "name": "python3"
  },
  "language_info": {
   "codemirror_mode": {
    "name": "ipython",
    "version": 3
   },
   "file_extension": ".py",
   "mimetype": "text/x-python",
   "name": "python",
   "nbconvert_exporter": "python",
   "pygments_lexer": "ipython3",
   "version": "3.7.6"
  }
 },
 "nbformat": 4,
 "nbformat_minor": 4
}
