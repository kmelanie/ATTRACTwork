{
 "cells": [
  {
   "cell_type": "code",
   "execution_count": 17,
   "metadata": {},
   "outputs": [
    {
     "name": "stdout",
     "output_type": "stream",
     "text": [
      "[['Offset=', '678'], ['Residue', 'Offset=', '127'], ['148', '159', '0out.txt'], ['174', '185', '1out.txt'], ['189', '192', '2out.txt']]\n",
      "678\n",
      "127\n",
      "[[21, 32], [47, 58], [62, 65]]\n"
     ]
    }
   ],
   "source": [
    "ligand_out='../benchmark5/results/7CEI/cutted_distance10_config/out-unbound.txt'\n",
    "cut_list=[]\n",
    "for line in open(ligand_out):\n",
    "    cut_line = line.split()\n",
    "    cut_list.append(cut_line)\n",
    "print(cut_list)\n",
    "offset=cut_list[0][1]\n",
    "print(offset)\n",
    "residue_offset=cut_list[1][2]\n",
    "print(residue_offset)\n",
    "cut_pos=[]\n",
    "for cut in cut_list[2:]:\n",
    "    cut_pos.append([int(cut[0])-int(residue_offset), int(cut[1])-int(residue_offset)])\n",
    "print(cut_pos)"
   ]
  },
  {
   "cell_type": "code",
   "execution_count": null,
   "metadata": {},
   "outputs": [],
   "source": []
  }
 ],
 "metadata": {
  "kernelspec": {
   "display_name": "Python 3",
   "language": "python",
   "name": "python3"
  },
  "language_info": {
   "codemirror_mode": {
    "name": "ipython",
    "version": 3
   },
   "file_extension": ".py",
   "mimetype": "text/x-python",
   "name": "python",
   "nbconvert_exporter": "python",
   "pygments_lexer": "ipython3",
   "version": "3.7.6"
  }
 },
 "nbformat": 4,
 "nbformat_minor": 4
}
