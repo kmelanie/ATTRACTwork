{
 "cells": [
  {
   "cell_type": "code",
   "execution_count": 8,
   "metadata": {},
   "outputs": [
    {
     "name": "stdout",
     "output_type": "stream",
     "text": [
      "['A', 'B', 'C', 'D', 'E', 'F', 'G', 'H', 'I', 'J', 'K', 'L', 'M', 'N', 'O', 'P', 'Q', 'R', 'S', 'T', 'U', 'V', 'W', 'X', 'Y', 'Z', 'AA', 'AB', 'AC', 'AD', 'AE', 'AF', 'AG', 'AH', 'AI', 'AJ', 'AK', 'AL', 'AM', 'AN', 'AO', 'AP', 'AQ', 'AR', 'AS', 'AT', 'AU', 'AV', 'AW', 'AX', 'AY', 'AZ', 'BA', 'BB', 'BC', 'BD', 'BE', 'BF', 'BG', 'BH', 'BI', 'BJ', 'BK', 'BL', 'BM', 'BN', 'BO', 'BP', 'BQ', 'BR', 'BS', 'BT', 'BU', 'BV', 'BW', 'BX', 'BY', 'BZ', 'CA', 'CB', 'CC', 'CD', 'CE', 'CF', 'CG', 'CH', 'CI', 'CJ', 'CK', 'CL', 'CM', 'CN', 'CO', 'CP', 'CQ', 'CR', 'CS', 'CT', 'CU', 'CV', 'CW', 'CX', 'CY', 'CZ', 'DA', 'DB', 'DC', 'DD', 'DE', 'DF', 'DG', 'DH', 'DI', 'DJ', 'DK', 'DL', 'DM', 'DN', 'DO', 'DP', 'DQ', 'DR', 'DS', 'DT', 'DU', 'DV', 'DW', 'DX', 'DY', 'DZ', 'EA', 'EB', 'EC', 'ED', 'EE', 'EF', 'EG', 'EH', 'EI', 'EJ', 'EK', 'EL', 'EM', 'EN', 'EO', 'EP', 'EQ', 'ER', 'ES', 'ET', 'EU', 'EV', 'EW', 'EX', 'EY', 'EZ', 'FA', 'FB', 'FC', 'FD', 'FE', 'FF', 'FG', 'FH', 'FI', 'FJ', 'FK', 'FL', 'FM', 'FN', 'FO', 'FP', 'FQ', 'FR', 'FS', 'FT', 'FU', 'FV', 'FW', 'FX', 'FY', 'FZ', 'GA', 'GB', 'GC', 'GD', 'GE', 'GF', 'GG', 'GH', 'GI', 'GJ', 'GK', 'GL', 'GM', 'GN', 'GO', 'GP', 'GQ']\n",
      "['A', 'B', 'C', 'D', 'E', 'F', 'G', 'H', 'I', 'J', 'K', 'L', 'M', 'N', 'O', 'P', 'Q', 'R', 'S', 'T', 'U', 'V', 'W', 'X', 'Y', 'Z', 'a', 'b', 'c', 'd', 'e', 'f', 'g', 'h', 'i', 'j', 'k', 'l', 'm', 'n', 'o', 'p', 'q', 'r', 's', 't', 'u', 'v', 'w', 'x', 'y', 'z']\n"
     ]
    }
   ],
   "source": [
    "from string import ascii_uppercase\n",
    "from string import ascii_lowercase\n",
    "letters = list(ascii_uppercase+ascii_lowercase)\n",
    "num_cols = 200\n",
    "\n",
    "alphabet_list = []\n",
    "for i in range(0, num_cols - 1):\n",
    "    n = i//26\n",
    "    m = n//26\n",
    "    i-=n*26\n",
    "    n-=m*26\n",
    "    col = letters[m-1]+letters[n-1]+letters[i] if m>0 else letters[n-1]+letters[i] if n>0 else letters[i]\n",
    "    alphabet_list.append(col)\n",
    "print(alphabet_list)\n",
    "print(letters)"
   ]
  },
  {
   "cell_type": "code",
   "execution_count": 2,
   "metadata": {},
   "outputs": [
    {
     "name": "stdout",
     "output_type": "stream",
     "text": [
      "['A', 'B', 'C', 'D', 'E', 'F', 'G', 'H', 'I', 'J', 'K', 'L', 'M', 'N', 'O', 'P', 'Q', 'R', 'S', 'T', 'U', 'V', 'W', 'X', 'Y', 'Z', 'a', 'b', 'c', 'd', 'e', 'f', 'g', 'h', 'i', 'j', 'k', 'l', 'm', 'n', 'o', 'p', 'q', 'r', 's', 't', 'u', 'v', 'w', 'x', 'y', 'z']\n"
     ]
    }
   ],
   "source": [
    "print(letters)"
   ]
  },
  {
   "cell_type": "code",
   "execution_count": 13,
   "metadata": {},
   "outputs": [
    {
     "name": "stdout",
     "output_type": "stream",
     "text": [
      "$ATTRACTDIR/collect ligandr_bound-and-flexsep_final.dat ligandr_bound-and-flexsep-chainA.pdb ligandr_bound-and-flexsep-chainB.pdb ligandr_bound-and-flexsep-chainC.pdb ligandr_bound-and-flexsep-chainD.pdb ligandr_bound-and-flexsep-chainE.pdb ligandr_bound-and-flexsep-chainF.pdb ligandr_bound-and-flexsep-chainG.pdb ligandr_bound-and-flexsep-chainH.pdb ligandr_bound-and-flexsep-chainI.pdb ligandr_bound-and-flexsep-chainJ.pdb ligandr_bound-and-flexsep-chainK.pdb ligandr_bound-and-flexsep-chainL.pdb ligandr_bound-and-flexsep-chainM.pdb ligandr_bound-and-flexsep-chainN.pdb ligandr_bound-and-flexsep-chainO.pdb ligandr_bound-and-flexsep-chainP.pdb ligandr_bound-and-flexsep-chainQ.pdb ligandr_bound-and-flexsep-chainR.pdb ligandr_bound-and-flexsep-chainS.pdb ligandr_bound-and-flexsep-chainT.pdb ligandr_bound-and-flexsep-chainU.pdb ligandr_bound-and-flexsep-chainV.pdb ligandr_bound-and-flexsep-chainW.pdb ligandr_bound-and-flexsep-chainX.pdb ligandr_bound-and-flexsep-chainY.pdb ligandr_bound-and-flexsep-chainZ.pdb ligandr_bound-and-flexsep-chaina.pdb ligandr_bound-and-flexsep-chainb.pdb ligandr_bound-and-flexsep-chainc.pdb ligandr_bound-and-flexsep-chaind.pdb\n"
     ]
    }
   ],
   "source": [
    "command=['$ATTRACTDIR/collect ligandr_bound-and-flexsep_final.dat']\n",
    "for i in letters[:30]:\n",
    "    command.append('ligandr_bound-and-flexsep-chain'+i+'.pdb')\n",
    "print(' '.join(map(str, command)))"
   ]
  },
  {
   "cell_type": "code",
   "execution_count": 33,
   "metadata": {},
   "outputs": [],
   "source": [
    "attract='$ATTRACTDIR/attract *start.dat $ATTRACTDIR/../attract.par  *bound-and-flexsep.pdb --rest *.rest --traj --vmax 100 > test_final.dat'"
   ]
  },
  {
   "cell_type": "code",
   "execution_count": 30,
   "metadata": {},
   "outputs": [
    {
     "name": "stdout",
     "output_type": "stream",
     "text": [
      "$ATTRACTDIR/collect test_final.dat ligand*_bound-and-flexsep-chainA.pdb ligand*_bound-and-flexsep-chainB.pdb ligand*_bound-and-flexsep-chainC.pdb ligand*_bound-and-flexsep-chainD.pdb ligand*_bound-and-flexsep-chainE.pdb ligand*_bound-and-flexsep-chainF.pdb ligand*_bound-and-flexsep-chainG.pdb ligand*_bound-and-flexsep-chainH.pdb ligand*_bound-and-flexsep-chainI.pdb ligand*_bound-and-flexsep-chainJ.pdb ligand*_bound-and-flexsep-chainK.pdb ligand*_bound-and-flexsep-chainL.pdb ligand*_bound-and-flexsep-chainM.pdb ligand*_bound-and-flexsep-chainN.pdb ligand*_bound-and-flexsep-chainO.pdb ligand*_bound-and-flexsep-chainP.pdb ligand*_bound-and-flexsep-chainQ.pdb ligand*_bound-and-flexsep-chainR.pdb ligand*_bound-and-flexsep-chainS.pdb > test_bound-and-flexsep_all.pdb\n"
     ]
    }
   ],
   "source": [
    "for line in open('../benchmark5/results/4JCV/cutted_distance7/ligandr-refe_bound-and-flexsep.pdb'):\n",
    "    pdblist=line.split()\n",
    "    endchain=pdblist[0]\n",
    "    break\n",
    "collect=['$ATTRACTDIR/collect test_final.dat']\n",
    "for i in letters[:int(endchain)]:\n",
    "    collect.append('ligand*_bound-and-flexsep-chain'+i+'.pdb')\n",
    "collect=' '.join(map(str, collect))+' > test_bound-and-flexsep_all.pdb'\n"
   ]
  },
  {
   "cell_type": "code",
   "execution_count": 36,
   "metadata": {},
   "outputs": [
    {
     "data": {
      "text/plain": [
       "0"
      ]
     },
     "execution_count": 36,
     "metadata": {},
     "output_type": "execute_result"
    }
   ],
   "source": [
    "import os\n",
    "os.system('cd ../benchmark5/results/4JCV/cutted_distance7/ ;'+ attract)\n",
    "os.system('cd ../benchmark5/results/4JCV/cutted_distance7/ ;'+ collect)"
   ]
  },
  {
   "cell_type": "code",
   "execution_count": 37,
   "metadata": {},
   "outputs": [
    {
     "data": {
      "text/plain": [
       "'/home/melaniekaser/attract-master/generat/work/new_scripts'"
      ]
     },
     "execution_count": 37,
     "metadata": {},
     "output_type": "execute_result"
    }
   ],
   "source": [
    "pwd"
   ]
  },
  {
   "cell_type": "code",
   "execution_count": 23,
   "metadata": {},
   "outputs": [
    {
     "name": "stdout",
     "output_type": "stream",
     "text": [
      "$ATTRACTDIR/collect ./test_final.dat ./ligand*_bound-and-flexsep-chainA.pdb ./ligand*_bound-and-flexsep-chainB.pdb ./ligand*_bound-and-flexsep-chainC.pdb ./ligand*_bound-and-flexsep-chainD.pdb ./ligand*_bound-and-flexsep-chainE.pdb ./ligand*_bound-and-flexsep-chainF.pdb ./ligand*_bound-and-flexsep-chainG.pdb ./ligand*_bound-and-flexsep-chainH.pdb ./ligand*_bound-and-flexsep-chainI.pdb ./ligand*_bound-and-flexsep-chainJ.pdb ./ligand*_bound-and-flexsep-chainK.pdb ./ligand*_bound-and-flexsep-chainL.pdb ./ligand*_bound-and-flexsep-chainM.pdb ./ligand*_bound-and-flexsep-chainN.pdb ./ligand*_bound-and-flexsep-chainO.pdb ./ligand*_bound-and-flexsep-chainP.pdb ./ligand*_bound-and-flexsep-chainQ.pdb ./ligand*_bound-and-flexsep-chainR.pdb ./ligand*_bound-and-flexsep-chainS.pdb ./ligand*_bound-and-flexsep-chainT.pdb ./ligand*_bound-and-flexsep-chainU.pdb ./ligand*_bound-and-flexsep-chainV.pdb ./ligand*_bound-and-flexsep-chainW.pdb ./ligand*_bound-and-flexsep-chainX.pdb ./ligand*_bound-and-flexsep-chainY.pdb ./ligand*_bound-and-flexsep-chainZ.pdb ./ligand*_bound-and-flexsep-chaina.pdb ./ligand*_bound-and-flexsep-chainb.pdb ./ligand*_bound-and-flexsep-chainc.pdb ./ligand*_bound-and-flexsep-chaind.pdb ./ligand*_bound-and-flexsep-chaine.pdb ./ligand*_bound-and-flexsep-chainf.pdb ./ligand*_bound-and-flexsep-chaing.pdb ./ligand*_bound-and-flexsep-chainh.pdb ./ligand*_bound-and-flexsep-chaini.pdb ./ligand*_bound-and-flexsep-chainj.pdb ./ligand*_bound-and-flexsep-chaink.pdb ./ligand*_bound-and-flexsep-chainl.pdb ./ligand*_bound-and-flexsep-chainm.pdb ./ligand*_bound-and-flexsep-chainn.pdb ./ligand*_bound-and-flexsep-chaino.pdb ./ligand*_bound-and-flexsep-chainp.pdb ./ligand*_bound-and-flexsep-chainq.pdb ./ligand*_bound-and-flexsep-chainr.pdb ./ligand*_bound-and-flexsep-chains.pdb ./ligand*_bound-and-flexsep-chaint.pdb ./ligand*_bound-and-flexsep-chainu.pdb ./ligand*_bound-and-flexsep-chainv.pdb ./ligand*_bound-and-flexsep-chainw.pdb ./ligand*_bound-and-flexsep-chainx.pdb ./ligand*_bound-and-flexsep-chainy.pdb ./ligand*_bound-and-flexsep-chainz.pdb ./ligand*_bound-and-flexsep-chainC.pdb2 ./ligand*_bound-and-flexsep-chainD.pdb2 ./ligand*_bound-and-flexsep-chainE.pdb2 ./ligand*_bound-and-flexsep-chainF.pdb2 ./ligand*_bound-and-flexsep-chainG.pdb2 ./ligand*_bound-and-flexsep-chainH.pdb2 ./ligand*_bound-and-flexsep-chainI.pdb2 > test_bound-and-flexsep_all.pdb\n"
     ]
    }
   ],
   "source": [
    "from string import ascii_uppercase\n",
    "from string import ascii_lowercase\n",
    "letters = list(ascii_uppercase+ascii_lowercase+ascii_uppercase)\n",
    "del letters[52:54]\n",
    "endchain=59\n",
    "collect=['$ATTRACTDIR/collect ./test_final.dat']\n",
    "chain_count=0\n",
    "for i in letters[:int(endchain)]:\n",
    "    chain_count+=1\n",
    "    if chain_count<=52:\n",
    "        collect.append('./ligand*_bound-and-flexsep-chain'+i+'.pdb')\n",
    "    if chain_count>52:\n",
    "        collect.append('./ligand*_bound-and-flexsep-chain'+i+'.pdb2')\n",
    "collect=' '.join(map(str, collect))+' > test_bound-and-flexsep_all.pdb'\n",
    "print(collect)"
   ]
  },
  {
   "cell_type": "code",
   "execution_count": 21,
   "metadata": {},
   "outputs": [
    {
     "name": "stdout",
     "output_type": "stream",
     "text": [
      "['A', 'B', 'C', 'D', 'E', 'F', 'G', 'H', 'I', 'J', 'K', 'L', 'M', 'N', 'O', 'P', 'Q', 'R', 'S', 'T', 'U', 'V', 'W', 'X', 'Y', 'Z', 'a', 'b', 'c', 'd', 'e', 'f', 'g', 'h', 'i', 'j', 'k', 'l', 'm', 'n', 'o', 'p', 'q', 'r', 's', 't', 'u', 'v', 'w', 'x', 'y', 'z', 'C', 'D', 'E', 'F', 'G', 'H', 'I', 'J', 'K', 'L', 'M', 'N', 'O', 'P', 'Q', 'R', 'S', 'T', 'U', 'V', 'W', 'X', 'Y', 'Z', 'a', 'b', 'c', 'd', 'e', 'f', 'g', 'h', 'i', 'j', 'k', 'l', 'm', 'n', 'o', 'p', 'q', 'r', 's', 't', 'u', 'v', 'w', 'x', 'y', 'z']\n"
     ]
    }
   ],
   "source": [
    "alphabet_list=list(ascii_uppercase+ascii_lowercase+ascii_uppercase+ascii_lowercase)\n",
    "del alphabet_list[52:54]\n",
    "print(alphabet_list)"
   ]
  },
  {
   "cell_type": "code",
   "execution_count": null,
   "metadata": {},
   "outputs": [],
   "source": []
  }
 ],
 "metadata": {
  "kernelspec": {
   "display_name": "Python 3",
   "language": "python",
   "name": "python3"
  },
  "language_info": {
   "codemirror_mode": {
    "name": "ipython",
    "version": 3
   },
   "file_extension": ".py",
   "mimetype": "text/x-python",
   "name": "python",
   "nbconvert_exporter": "python",
   "pygments_lexer": "ipython3",
   "version": "3.7.6"
  }
 },
 "nbformat": 4,
 "nbformat_minor": 4
}
