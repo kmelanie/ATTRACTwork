{
 "cells": [
  {
   "cell_type": "code",
   "execution_count": 14,
   "metadata": {},
   "outputs": [
    {
     "name": "stdout",
     "output_type": "stream",
     "text": [
      "Offset= 2164 \n",
      "Residue Offset= 241\n"
     ]
    }
   ],
   "source": [
    "#!/usr/bin/env python\n",
    "# coding: utf-8\n",
    "\n",
    "###import modules\n",
    "import re \n",
    "import sys\n",
    "import string\n",
    "import os\n",
    "\n",
    "###get input pdb file and output location as commandline argument\n",
    "ligand_name = 'ligand-aa.pdb'\n",
    "receptor_name='test/receptor-aa.pdb'\n",
    "#print (filename)\n",
    "\n",
    "# open outputfile \n",
    "### generate continuos Atom number\n",
    "atom_nr=1\n",
    "with open('out.txt', 'w') as output: \n",
    "#get uncutted residues\n",
    "  for line in open(receptor_name):\n",
    "    pdblist = line.split()\n",
    "    pdblist[1]=atom_nr\n",
    "    print('\\t'.join(map(str, pdblist)), file=output)\n",
    "    atom_nr+=1\n",
    "    residue_nr=pdblist[5]\n",
    "  print('TER', file=output) \n",
    "  \n",
    "  residue_offset=residue_nr\n",
    "  offset=atom_nr-1\n",
    "  print('Offset=', offset,'\\nResidue Offset=',residue_offset)\n",
    "  for line in open(ligand_name):\n",
    "    pdblist = line.split()\n",
    "    pdblist[1]=atom_nr\n",
    "    pdblist[5]=str(int(residue_offset)+int(pdblist[5]))\n",
    "    print('\\t'.join(map(str, pdblist)), file=output)\n",
    "    atom_nr+=1"
   ]
  },
  {
   "cell_type": "code",
   "execution_count": null,
   "metadata": {},
   "outputs": [],
   "source": []
  }
 ],
 "metadata": {
  "kernelspec": {
   "display_name": "Python 3",
   "language": "python",
   "name": "python3"
  },
  "language_info": {
   "codemirror_mode": {
    "name": "ipython",
    "version": 3
   },
   "file_extension": ".py",
   "mimetype": "text/x-python",
   "name": "python",
   "nbconvert_exporter": "python",
   "pygments_lexer": "ipython3",
   "version": "3.7.6"
  }
 },
 "nbformat": 4,
 "nbformat_minor": 4
}
